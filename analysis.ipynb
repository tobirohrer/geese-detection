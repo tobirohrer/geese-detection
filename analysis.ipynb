{
 "cells": [
  {
   "cell_type": "code",
   "execution_count": null,
   "id": "military-worship",
   "metadata": {},
   "outputs": [],
   "source": [
    "import shapefile\n",
    "import matplotlib.pyplot as plt\n",
    "import matplotlib.image as mpimg\n",
    "import gdal\n",
    "import cv2\n",
    "import copy"
   ]
  },
  {
   "cell_type": "markdown",
   "id": "silver-above",
   "metadata": {},
   "source": [
    "# Helper Functions"
   ]
  },
  {
   "cell_type": "code",
   "execution_count": null,
   "id": "sexual-residence",
   "metadata": {},
   "outputs": [],
   "source": [
    "def draw_circles(img, circle_centers, radius = 20, line_thickness = 3):\n",
    "    img_with_circles = copy.deepcopy(img)\n",
    "    \n",
    "    for circle_center in circle_centers:\n",
    "        cv2.circle(img_with_circles, \n",
    "                   circle_center, \n",
    "                   radius=radius,\n",
    "                   color=(255,99,71), \n",
    "                   thickness=line_thickness)\n",
    "    return img_with_circles"
   ]
  },
  {
   "cell_type": "markdown",
   "id": "capital-rebecca",
   "metadata": {},
   "source": [
    "# Read Shapefile"
   ]
  },
  {
   "cell_type": "code",
   "execution_count": null,
   "id": "swiss-gravity",
   "metadata": {},
   "outputs": [],
   "source": [
    "shape = shapefile.Reader(\"data/manually_picked_geese.shp\")\n",
    "features = shape.shapeRecords()\n",
    "geeze_coordinates = [feature.shape.__geo_interface__['coordinates'] for feature in features]\n",
    "geeze_coordinates"
   ]
  },
  {
   "cell_type": "markdown",
   "id": "likely-tragedy",
   "metadata": {},
   "source": [
    "# Read Image"
   ]
  },
  {
   "cell_type": "code",
   "execution_count": null,
   "id": "developed-immune",
   "metadata": {},
   "outputs": [],
   "source": [
    "img = mpimg.imread('data/Nunavut_17Juin_2020_30cm_RGBN_W84U17_1_3_clipped.tif')\n",
    "img.shape"
   ]
  },
  {
   "cell_type": "markdown",
   "id": "historical-humidity",
   "metadata": {},
   "source": [
    "# Read Geo Transformation Matrix from GeoTif"
   ]
  },
  {
   "cell_type": "code",
   "execution_count": null,
   "id": "under-latin",
   "metadata": {},
   "outputs": [],
   "source": [
    "ds = gdal.Open('data/Nunavut_17Juin_2020_30cm_RGBN_W84U17_1_3_clipped.tif') \n",
    "xoffset, px_w, rot1, yoffset, px_h, rot2 = ds.GetGeoTransform()\n",
    "gt = ds.GetGeoTransform()"
   ]
  },
  {
   "cell_type": "code",
   "execution_count": null,
   "id": "normal-thermal",
   "metadata": {},
   "outputs": [],
   "source": [
    "def convert_to_image_coordinates(goose_coordinates):\n",
    "    x, y = goose_coordinates\n",
    "    return (int((x - gt[0]) / gt[1]), int((y - gt[3]) / gt[5]))"
   ]
  },
  {
   "cell_type": "markdown",
   "id": "consecutive-stephen",
   "metadata": {},
   "source": [
    "# Plotting region with geeze marked"
   ]
  },
  {
   "cell_type": "code",
   "execution_count": null,
   "id": "worth-album",
   "metadata": {},
   "outputs": [],
   "source": [
    "img = mpimg.imread('data/Nunavut_17Juin_2020_30cm_RGBN_W84U17_1_3_clipped.tif')\n",
    "\n",
    "# convert coordinates into pixel-coordinates of image\n",
    "image_geeze_coords = [convert_to_image_coordinates(geeze_coordinate) for geeze_coordinate in geeze_coordinates]\n",
    "# using draw_circles function defined on top\n",
    "img_with_geeze_marks = draw_circles(img, image_geeze_coords)\n",
    "\n",
    "plt.figure(figsize=(20,10))\n",
    "plt.imshow(img_with_geeze_marks[2600:5500, 5000:9000])"
   ]
  },
  {
   "cell_type": "markdown",
   "id": "applied-folks",
   "metadata": {},
   "source": [
    "# Searching for geeze using openCV\n",
    "\n",
    "comments in code."
   ]
  },
  {
   "cell_type": "code",
   "execution_count": null,
   "id": "offshore-heater",
   "metadata": {},
   "outputs": [],
   "source": [
    "# 1. Read Image again\n",
    "img = mpimg.imread('data/Nunavut_17Juin_2020_30cm_RGBN_W84U17_1_3_clipped.tif')\n",
    "\n",
    "# 2. Convert to Greyscale\n",
    "gray = cv2.cvtColor(img, cv2.COLOR_BGR2GRAY)\n",
    "\n",
    "# 3. Binarize Image\n",
    "# ToDo: Optimize binarization\n",
    "ret,thresh = cv2.threshold(gray,120,255,cv2.THRESH_BINARY)"
   ]
  },
  {
   "cell_type": "code",
   "execution_count": null,
   "id": "regional-course",
   "metadata": {},
   "outputs": [],
   "source": [
    "# Getting coordinates of a goose to crop sample image region\n",
    "sample_goose_id = 2\n",
    "x_coord, y_coord = convert_to_image_coordinates(geeze_coordinates[sample_goose_id])\n",
    "\n",
    "# Cropping image around this sample goose\n",
    "preprocessed_roi = thresh[y_coord-100:y_coord+100, x_coord-100:x_coord+100]\n",
    "original_roi = img[y_coord-100:y_coord+100, x_coord-100:x_coord+100]\n",
    "\n",
    "# plotting :-)\n",
    "f, axarr = plt.subplots(1,2,figsize=(20,20))\n",
    "axarr[0].imshow(original_roi)\n",
    "axarr[1].imshow(preprocessed_roi)"
   ]
  },
  {
   "cell_type": "code",
   "execution_count": null,
   "id": "dressed-gambling",
   "metadata": {},
   "outputs": [],
   "source": [
    "def find_geeze(roi_image, area_threshold=2):\n",
    "    \"\"\"finds geeze in image area\n",
    "\n",
    "    Keyword arguments:\n",
    "    roi_image -- image to search for geeze.\n",
    "    area_threshold -- threshold of which size a cluster of pixels is marked as goose\n",
    "    \"\"\"\n",
    "    (contours, _) = cv2.findContours(roi_image, cv2.RETR_EXTERNAL, cv2.CHAIN_APPROX_SIMPLE)\n",
    "    detected_geeze = []\n",
    "    for contour in contours: \n",
    "        area = cv2.contourArea(contour)\n",
    "        if area <= area_threshold:\n",
    "            detected_geeze.append({\n",
    "                'upper_left_coord': (contour[0][0][0], contour[0][0][1]),\n",
    "                'area': area                      \n",
    "            })\n",
    "    return detected_geeze"
   ]
  },
  {
   "cell_type": "code",
   "execution_count": null,
   "id": "casual-romance",
   "metadata": {},
   "outputs": [],
   "source": [
    "# testing the find_geeze function\n",
    "geeze = find_geeze(preprocessed_roi)"
   ]
  },
  {
   "cell_type": "code",
   "execution_count": null,
   "id": "minus-drain",
   "metadata": {},
   "outputs": [],
   "source": [
    "geeze"
   ]
  },
  {
   "cell_type": "code",
   "execution_count": null,
   "id": "general-reaction",
   "metadata": {},
   "outputs": [],
   "source": [
    "result = draw_circles(preprocessed_roi, \n",
    "                      [goose['upper_left_coord'] for goose in geeze],\n",
    "                      radius = 5,\n",
    "                      line_thickness = 1\n",
    "                     )\n",
    "    \n",
    "# plotting :-)\n",
    "f, axarr = plt.subplots(1,2,figsize=(20,20))\n",
    "axarr[0].imshow(draw_circles(img, image_geeze_coords, radius = 5, line_thickness = 1)[y_coord-100:y_coord+100, x_coord-100:x_coord+100])\n",
    "axarr[1].imshow(result)"
   ]
  },
  {
   "cell_type": "code",
   "execution_count": null,
   "id": "norman-ordering",
   "metadata": {},
   "outputs": [],
   "source": [
    "original_roi_with_circles = draw_circles(original_roi, \n",
    "                      [goose['upper_left_coord'] for goose in geeze],\n",
    "                      radius = 5,\n",
    "                      line_thickness = 1\n",
    "                     )\n",
    "\n",
    "plt.figure(figsize=(30,30))\n",
    "plt.imshow(original_roi_with_circles)"
   ]
  },
  {
   "cell_type": "markdown",
   "id": "fancy-suffering",
   "metadata": {},
   "source": [
    "# Playground"
   ]
  },
  {
   "cell_type": "code",
   "execution_count": null,
   "id": "private-reaction",
   "metadata": {},
   "outputs": [],
   "source": [
    "img = cv2.imread('data/spectral_analysis_geese_clipped.tif',-1)\n",
    "cv2.imshow('tiff',img)\n",
    "cv2.waitKey(0)"
   ]
  },
  {
   "cell_type": "code",
   "execution_count": null,
   "id": "minute-earthquake",
   "metadata": {},
   "outputs": [],
   "source": [
    "img = mpimg.imread('data/spectral_analysis_geese_clipped.tif')\n",
    "plt.imshow(img)"
   ]
  },
  {
   "cell_type": "code",
   "execution_count": null,
   "id": "fatty-presentation",
   "metadata": {},
   "outputs": [],
   "source": [
    "def converte_x(pos_y):\n",
    "    return (pos_y - yoffset)/rot2\n",
    "\n",
    "def converte_y(pos_x, pos_y):\n",
    "    return pos_x-px_w*converte_x(pos_y)-xoffset"
   ]
  }
 ],
 "metadata": {
  "kernelspec": {
   "display_name": "Python 3",
   "language": "python",
   "name": "python3"
  },
  "language_info": {
   "codemirror_mode": {
    "name": "ipython",
    "version": 3
   },
   "file_extension": ".py",
   "mimetype": "text/x-python",
   "name": "python",
   "nbconvert_exporter": "python",
   "pygments_lexer": "ipython3",
   "version": "3.8.2"
  }
 },
 "nbformat": 4,
 "nbformat_minor": 5
}
